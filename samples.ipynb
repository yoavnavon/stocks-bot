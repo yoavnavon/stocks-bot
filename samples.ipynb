{
 "cells": [
  {
   "cell_type": "code",
   "execution_count": 83,
   "id": "c3ddd99f",
   "metadata": {},
   "outputs": [],
   "source": [
    "import pandas as pd\n",
    "import matplotlib\n",
    "import matplotlib.pyplot as plt\n",
    "import yfinance as yf\n",
    "import seaborn as sns\n",
    "import numpy as np"
   ]
  },
  {
   "cell_type": "code",
   "execution_count": 145,
   "id": "a54b599d",
   "metadata": {},
   "outputs": [],
   "source": [
    "ticker = \"NIO\"\n",
    "stock = yf.Ticker(ticker)"
   ]
  },
  {
   "cell_type": "code",
   "execution_count": 150,
   "id": "5d04b7ed",
   "metadata": {},
   "outputs": [
    {
     "data": {
      "text/plain": [
       "{'NIOASDF': 'No data found, symbol may be delisted'}"
      ]
     },
     "execution_count": 150,
     "metadata": {},
     "output_type": "execute_result"
    }
   ],
   "source": [
    "yf.shared._ERRORS"
   ]
  },
  {
   "cell_type": "code",
   "execution_count": 147,
   "id": "425acf82",
   "metadata": {},
   "outputs": [],
   "source": [
    "period = \"1d\"\n",
    "interval = \"1wk\"\n",
    "hist = stock.history(period=period, interval=interval)\n",
    "hist.index.rename('index', inplace=True)\n",
    "hist = hist.reset_index()"
   ]
  },
  {
   "cell_type": "code",
   "execution_count": 148,
   "id": "e458a554",
   "metadata": {},
   "outputs": [],
   "source": [
    "hist['index_str'] = hist['index'].astype(str)\n",
    "hist['index_str'] = hist.index_str.apply(lambda label: label[5:-9])"
   ]
  },
  {
   "cell_type": "code",
   "execution_count": 149,
   "id": "d40765c8",
   "metadata": {},
   "outputs": [
    {
     "data": {
      "image/png": "[encoded data removed]",
      "text/plain": [
       "<Figure size 432x288 with 1 Axes>"
      ]
     },
     "metadata": {},
     "output_type": "display_data"
    }
   ],
   "source": [
    "ax = sns.lineplot(x='index_str', y='Close', data=hist)\n",
    "ax.set_xticks(np.linspace(0,len(hist)-1,num=5, dtype=int))\n",
    "ax.set_xlabel(ticker)\n",
    "ax.set_ylabel('value')\n",
    "ax.tick_params(axis='x', rotation=30)\n",
    "#ax.set_xticklabels()\n",
    "\n",
    "plt.show()"
   ]
  },
  {
   "cell_type": "code",
   "execution_count": null,
   "id": "fb6fa302",
   "metadata": {},
   "outputs": [],
   "source": []
  }
 ],
 "metadata": {
  "kernelspec": {
   "display_name": "Python 3",
   "language": "python",
   "name": "python3"
  },
  "language_info": {
   "codemirror_mode": {
    "name": "ipython",
    "version": 3
   },
   "file_extension": ".py",
   "mimetype": "text/x-python",
   "name": "python",
   "nbconvert_exporter": "python",
   "pygments_lexer": "ipython3",
   "version": "3.9.1"
  }
 },
 "nbformat": 4,
 "nbformat_minor": 5
}
